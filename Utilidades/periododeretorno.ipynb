{
  "nbformat": 4,
  "nbformat_minor": 0,
  "metadata": {
    "colab": {
      "provenance": []
    },
    "kernelspec": {
      "name": "python3",
      "display_name": "Python 3"
    },
    "language_info": {
      "name": "python"
    }
  },
  "cells": [
    {
      "cell_type": "code",
      "execution_count": null,
      "metadata": {
        "colab": {
          "base_uri": "https://localhost:8080/"
        },
        "id": "_PLNfDYUycsZ",
        "outputId": "959b8422-96a7-4563-fe6c-ecbad248440e"
      },
      "outputs": [
        {
          "output_type": "stream",
          "name": "stdout",
          "text": [
            "El periodo de retorno es: 89843094.80262654\n"
          ]
        }
      ],
      "source": [
        "import numpy as np\n",
        "from scipy.stats import genextreme\n",
        "\n",
        "def calcular_periodo_retorno(datos, umbral):\n",
        "    \"\"\"\n",
        "    Calcula el periodo de retorno utilizando la distribución GEV.\n",
        "\n",
        "    Args:\n",
        "        datos (list): Una lista de valores numéricos que representan los datos.\n",
        "        umbral (float): El umbral a partir del cual se considera un evento.\n",
        "\n",
        "    Returns:\n",
        "        float: El periodo de retorno calculado.\n",
        "    \"\"\"\n",
        "    # Ajuste de la distribución GEV a los datos\n",
        "    params = genextreme.fit(datos)\n",
        "\n",
        "    # Cálculo de la probabilidad de excedencia del umbral\n",
        "    prob_excedencia = 1 - genextreme.cdf(umbral, *params)\n",
        "\n",
        "    # Cálculo del periodo de retorno\n",
        "    periodo_retorno = 1 / prob_excedencia\n",
        "    return periodo_retorno\n",
        "\n",
        "# Ejemplo de uso\n",
        "datos = [10, 12, 15, 8, 20, 18, 13, 25, 14, 16]\n",
        "umbral = 50\n",
        "\n",
        "resultado = calcular_periodo_retorno(datos, umbral)\n",
        "print(\"El periodo de retorno es:\", resultado)\n"
      ]
    },
    {
      "cell_type": "code",
      "source": [
        "def calcular_valor_esperado(datos, periodo_retorno):\n",
        "    \"\"\"\n",
        "    Calcula el valor máximo esperado de lluvia para un periodo de retorno dado utilizando la fórmula inversa de Gumbel.\n",
        "\n",
        "    Args:\n",
        "        datos (list): Una lista de valores numéricos que representan los datos.\n",
        "        periodo_retorno (float): El periodo de retorno deseado (en años).\n",
        "\n",
        "    Returns:\n",
        "        float: El valor máximo esperado de lluvia para el periodo de retorno dado.\n",
        "    \"\"\"\n",
        "    m = len(datos)\n",
        "    n = (m + 1) / periodo_retorno - 1\n",
        "    sorted_data = sorted(datos, reverse=True)\n",
        "    valor_esperado = sorted_data[int(n)]\n",
        "    return valor_esperado\n",
        "\n",
        "# Ejemplo de uso\n",
        "datos_lluvia = [100, 80, 120, 70, 90, 110, 130, 150, 70, 100]\n",
        "periodo_retorno_20 = 20\n",
        "periodo_retorno_40 = 40\n",
        "periodo_retorno_50 = 100\n",
        "\n",
        "valor_esperado_20 = calcular_valor_esperado(datos_lluvia, periodo_retorno_20)\n",
        "valor_esperado_40 = calcular_valor_esperado(datos_lluvia, periodo_retorno_40)\n",
        "valor_esperado_50 = calcular_valor_esperado(datos_lluvia, periodo_retorno_50)\n",
        "\n",
        "print(\"Valor máximo esperado de lluvia para 20 años:\", valor_esperado_20)\n",
        "print(\"Valor máximo esperado de lluvia para 40 años:\", valor_esperado_40)\n",
        "print(\"Valor máximo esperado de lluvia para 50 años:\", valor_esperado_50)\n"
      ],
      "metadata": {
        "colab": {
          "base_uri": "https://localhost:8080/"
        },
        "id": "csdX5AwGzh1-",
        "outputId": "1cc1fd3d-1946-4c60-8493-dbe2b167715d"
      },
      "execution_count": null,
      "outputs": [
        {
          "output_type": "stream",
          "name": "stdout",
          "text": [
            "Valor máximo esperado de lluvia para 20 años: 150\n",
            "Valor máximo esperado de lluvia para 40 años: 150\n",
            "Valor máximo esperado de lluvia para 50 años: 150\n"
          ]
        }
      ]
    },
    {
      "cell_type": "code",
      "source": [
        "import numpy as np\n",
        "from scipy.stats import genextreme\n",
        "\n",
        "def calcular_valor_esperado(datos, periodo_retorno):\n",
        "    \"\"\"\n",
        "    Calcula el valor máximo esperado de lluvia para un periodo de retorno dado utilizando la distribución GEV.\n",
        "\n",
        "    Args:\n",
        "        datos (list): Una lista de valores numéricos que representan los datos.\n",
        "        periodo_retorno (float): El periodo de retorno deseado (en años).\n",
        "\n",
        "    Returns:\n",
        "        float: El valor máximo esperado de lluvia para el periodo de retorno dado.\n",
        "    \"\"\"\n",
        "    # Ajuste de la distribución GEV a los datos\n",
        "    params = genextreme.fit(datos)\n",
        "\n",
        "    # Cálculo del valor máximo esperado utilizando la función inversa de la distribución GEV\n",
        "    valor_esperado = genextreme.ppf(1 - 1/periodo_retorno, *params)\n",
        "    return valor_esperado\n",
        "\n",
        "# Ejemplo de uso\n",
        "datos_lluvia = [100, 80, 120, 70, 90, 110, 130, 150, 70, 100]\n",
        "periodo_retorno_20 = 20\n",
        "periodo_retorno_40 = 40\n",
        "periodo_retorno_50 = 50\n",
        "\n",
        "valor_esperado_20 = calcular_valor_esperado(datos_lluvia, periodo_retorno_20)\n",
        "valor_esperado_40 = calcular_valor_esperado(datos_lluvia, periodo_retorno_40)\n",
        "valor_esperado_50 = calcular_valor_esperado(datos_lluvia, periodo_retorno_50)\n",
        "\n",
        "print(\"Valor máximo esperado de lluvia en mm para 20 años:\", valor_esperado_20)\n",
        "print(\"Valor máximo esperado de lluvia en mm para 40 años:\", valor_esperado_40)\n",
        "print(\"Valor máximo esperado de lluvia en mm para 50 años:\", valor_esperado_50)\n"
      ],
      "metadata": {
        "colab": {
          "base_uri": "https://localhost:8080/"
        },
        "id": "64Tg-a_3zzUQ",
        "outputId": "c8d21973-7d19-441d-a3a7-24084ddcdbac"
      },
      "execution_count": null,
      "outputs": [
        {
          "output_type": "stream",
          "name": "stdout",
          "text": [
            "Valor máximo esperado de lluvia en mm para 20 años: 146.6224367987327\n",
            "Valor máximo esperado de lluvia en mm para 40 años: 157.6097814345978\n",
            "Valor máximo esperado de lluvia en mm para 50 años: 160.96645861092554\n"
          ]
        }
      ]
    }
  ]
}